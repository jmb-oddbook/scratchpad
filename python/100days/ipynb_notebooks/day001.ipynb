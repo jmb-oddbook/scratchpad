{
 "cells": [
  {
   "cell_type": "markdown",
   "metadata": {},
   "source": [
    "# Day 1 - Working with Variables in Python to Manage Data\n",
    "\n",
    "This was a bit easy, guess having programmed in Java and C++ before helped."
   ]
  },
  {
   "cell_type": "code",
   "execution_count": 1,
   "metadata": {},
   "outputs": [
    {
     "name": "stdout",
     "output_type": "stream",
     "text": [
      "7\n"
     ]
    }
   ],
   "source": [
    "# Print the length of an input string\n",
    "print(len(input(\"What is your name? \")))"
   ]
  },
  {
   "cell_type": "code",
   "execution_count": 2,
   "metadata": {},
   "outputs": [
    {
     "name": "stdout",
     "output_type": "stream",
     "text": [
      "a: 8\n",
      "b: 7\n"
     ]
    }
   ],
   "source": [
    "# Write a program that switches the values stored in the variables a and b.\n",
    "\n",
    "# Don't change the code below\n",
    "a = input(\"a: \")\n",
    "b = input(\"b: \")\n",
    "# Don't change the code above\n",
    "\n",
    "# Write your code here\n",
    "c = a\n",
    "a = b\n",
    "b = c\n",
    "\n",
    "# Don't change the code below\n",
    "print(\"a: \" + a)\n",
    "print(\"b: \"+ b)"
   ]
  }
 ],
 "metadata": {
  "interpreter": {
   "hash": "b5cfa023891fceef02537f80a4c6e95b77988fb973cdb16a51cdb785092210be"
  },
  "kernelspec": {
   "display_name": "Python 3.9.7 ('base')",
   "language": "python",
   "name": "python3"
  },
  "language_info": {
   "codemirror_mode": {
    "name": "ipython",
    "version": 3
   },
   "file_extension": ".py",
   "mimetype": "text/x-python",
   "name": "python",
   "nbconvert_exporter": "python",
   "pygments_lexer": "ipython3",
   "version": "3.9.12"
  },
  "orig_nbformat": 4
 },
 "nbformat": 4,
 "nbformat_minor": 2
}
