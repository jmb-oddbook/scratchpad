{
 "cells": [
  {
   "cell_type": "markdown",
   "metadata": {},
   "source": [
    "# Day 3 - Control Flow and Logical Operators"
   ]
  },
  {
   "cell_type": "code",
   "execution_count": null,
   "metadata": {},
   "outputs": [],
   "source": [
    "# Write a program that works out whether a given number is an odd or even number\n",
    "\n",
    "# Don't change the code below\n",
    "number = input(\"Which number do you want to check?\")\n",
    "# Don't change the code above\n",
    "\n",
    "# Write your code here\n",
    "if int(number) % 2 == 0:\n",
    "    print(f\"The number {number} is even.\")\n",
    "else:\n",
    "    print(f\"The number {number} is odd.\")\n",
    "\n",
    "# non-numbers need to caught by exception"
   ]
  },
  {
   "cell_type": "code",
   "execution_count": null,
   "metadata": {},
   "outputs": [],
   "source": [
    "# Write a program that calculates the Body Mass Index (BMI) from a user's weight and height\n",
    "# and return an explanation\n",
    "\n",
    "# Don't change the code below\n",
    "print(\"Note that commas are represented by a full stop.\")\n",
    "height = float(input(\"Enter your height in m: \"))\n",
    "weight = float(input(\"Enter your weight in kg: \"))\n",
    "# Don't change the code above\n",
    "\n",
    "# Write your code here\n",
    "bmi = round(weight / height ** 2)\n",
    "\n",
    "if bmi <= 18.5:\n",
    "    print(\"Underweight\")\n",
    "elif bmi <= 25:\n",
    "    print(\"Normal weight\")\n",
    "elif bmi <=30:\n",
    "    print(\"Overweight\")\n",
    "elif bmi <= 35:\n",
    "    print(\"Obese\")\n",
    "else:\n",
    "    print(\"Clinically obese\")"
   ]
  },
  {
   "cell_type": "code",
   "execution_count": 2,
   "metadata": {},
   "outputs": [
    {
     "name": "stdout",
     "output_type": "stream",
     "text": [
      "2100 is not a leap year.\n"
     ]
    }
   ],
   "source": [
    "# Leap year calculator\n",
    "\n",
    "year = int(input(\"Which year do you want to check?: \"))\n",
    "\n",
    "if year % 4 == 0:\n",
    "    if year % 100 == 0:\n",
    "        if year % 400 == 0:\n",
    "            print(str(year) + \" is a leap year.\")\n",
    "        else:\n",
    "            print(str(year) + \" is not a leap year.\")\n",
    "    else:\n",
    "        print(str(year) + \" is not a leap year.\")\n",
    "else:\n",
    "    print(str(year) + \" is not a leap year.\")"
   ]
  },
  {
   "cell_type": "code",
   "execution_count": 8,
   "metadata": {},
   "outputs": [
    {
     "name": "stdout",
     "output_type": "stream",
     "text": [
      "Welcome to Python Pizza Deliveries!\n",
      "You have entered invalid data. Please order again.\n"
     ]
    }
   ],
   "source": [
    "# Pizza order\n",
    "\n",
    "print(\"Welcome to Python Pizza Deliveries!\")\n",
    "size = input(\"What size pizza do you want? S, M, or L: \").upper()\n",
    "add_pepperoni = input(\"Do you want pepperoni? Y or N: \").upper()\n",
    "extra_cheese = input(\"Do you want extra cheese? Y or N: \").upper()\n",
    "\n",
    "error = 0\n",
    "total = 0\n",
    "\n",
    "if size == \"S\":\n",
    "    total += 15\n",
    "elif size == \"M\":\n",
    "    total += 20\n",
    "elif size == \"L\":\n",
    "    total += 25\n",
    "else:\n",
    "    error = 1\n",
    "\n",
    "if (add_pepperoni == \"Y\") & (size == \"S\"):\n",
    "    total += 2\n",
    "elif add_pepperoni == \"Y\":\n",
    "    total += 3\n",
    "elif add_pepperoni ==\"N\":\n",
    "    total = total\n",
    "else:\n",
    "    error = 1\n",
    "\n",
    "if extra_cheese == \"Y\":\n",
    "    total += 1\n",
    "elif extra_cheese == \"N\":\n",
    "    total = total\n",
    "else:\n",
    "    error = 1\n",
    "\n",
    "if error == 1:\n",
    "    print(\"You have entered invalid data. Please order again.\")\n",
    "else:\n",
    "    print(\"Your final bill is: \" + str(total) + \".\")\n"
   ]
  }
 ],
 "metadata": {
  "interpreter": {
   "hash": "b5cfa023891fceef02537f80a4c6e95b77988fb973cdb16a51cdb785092210be"
  },
  "kernelspec": {
   "display_name": "Python 3.9.7 ('base')",
   "language": "python",
   "name": "python3"
  },
  "language_info": {
   "codemirror_mode": {
    "name": "ipython",
    "version": 3
   },
   "file_extension": ".py",
   "mimetype": "text/x-python",
   "name": "python",
   "nbconvert_exporter": "python",
   "pygments_lexer": "ipython3",
   "version": "3.9.12"
  },
  "orig_nbformat": 4
 },
 "nbformat": 4,
 "nbformat_minor": 2
}
