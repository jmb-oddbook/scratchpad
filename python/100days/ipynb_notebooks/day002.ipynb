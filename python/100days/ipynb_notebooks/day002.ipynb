{
 "cells": [
  {
   "cell_type": "markdown",
   "metadata": {},
   "source": [
    "# Day 2 - Understanding Data Types and How to Manipulate Strings"
   ]
  },
  {
   "cell_type": "code",
   "execution_count": null,
   "metadata": {},
   "outputs": [],
   "source": [
    "# Write a program that adds the digits in a 2 digit number, e.g. if the input was 35,\n",
    "# then the output should be 3 + 5 = 8\n",
    "\n",
    "# Don't change the code below\n",
    "two_digit_number = input(\"Type a two digit number: \")\n",
    "# Don't change the code above\n",
    "\n",
    "# Write your code here\n",
    "print(int(two_digit_number[0]) + int(two_digit_number[1]))"
   ]
  },
  {
   "cell_type": "code",
   "execution_count": null,
   "metadata": {},
   "outputs": [],
   "source": [
    "# Write a program that calculates the Body Mass Index (BMI) from a user's weight and height\n",
    "\n",
    "# Don't change the code below\n",
    "print(\"Note that commas are represented by a full stop.\")\n",
    "height = input(\"Enter your height in m: \")\n",
    "weight = input(\"Enter your weight in kg: \")\n",
    "# Don't change the code above\n",
    "\n",
    "# Write your code here\n",
    "print(round(float(weight) / (float(height) ** 2)))"
   ]
  },
  {
   "cell_type": "code",
   "execution_count": null,
   "metadata": {},
   "outputs": [],
   "source": [
    "# Create a program using maths and f-Strings that tells us how many days,\n",
    "# weeks, months we have left if we live until 90 years old.\n",
    "# Input: Your current age\n",
    "# Output: \"You have x days, y weeks, and z months left.\"\n",
    "\n",
    "# Don't change the code below\n",
    "age = input(\"What is your current age?\")\n",
    "# Don't change the code above\n",
    "\n",
    "# Write your code here\n",
    "years = 90 - int(age)\n",
    "months = round(years * 12)\n",
    "weeks = round(years * 52)\n",
    "days = round(years * 365)\n",
    "\n",
    "print(f\"You have {days} days, {weeks} weeks, or {months} months left until age 90.\")"
   ]
  }
 ],
 "metadata": {
  "interpreter": {
   "hash": "b5cfa023891fceef02537f80a4c6e95b77988fb973cdb16a51cdb785092210be"
  },
  "kernelspec": {
   "display_name": "Python 3.9.7 ('base')",
   "language": "python",
   "name": "python3"
  },
  "language_info": {
   "codemirror_mode": {
    "name": "ipython",
    "version": 3
   },
   "file_extension": ".py",
   "mimetype": "text/x-python",
   "name": "python",
   "nbconvert_exporter": "python",
   "pygments_lexer": "ipython3",
   "version": "3.9.12"
  },
  "orig_nbformat": 4
 },
 "nbformat": 4,
 "nbformat_minor": 2
}
