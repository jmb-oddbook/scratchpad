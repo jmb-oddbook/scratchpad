{
 "cells": [
  {
   "cell_type": "markdown",
   "metadata": {},
   "source": [
    "# Day 8 - Function Parameters"
   ]
  },
  {
   "cell_type": "code",
   "execution_count": 4,
   "metadata": {},
   "outputs": [
    {
     "name": "stdout",
     "output_type": "stream",
     "text": [
      "You need to buy 6 cans of paint.\n"
     ]
    }
   ],
   "source": [
    "# Given a height and width of a wall calculate the cans of paint needed to paint it, if 1 can of paint can cover 5 square metres\n",
    "import math\n",
    "\n",
    "def paint_cans(height, width, cover):\n",
    "    cans = (height * width) / cover\n",
    "    return math.ceil(cans)\n",
    "\n",
    "test_h = int(input(\"Enter the height of the wall: \"))\n",
    "test_w = int(input(\"Enter the width of the wall: \"))\n",
    "coverage = 5\n",
    "\n",
    "print(\"You need to buy\", paint_cans(height=test_h, width=test_w, cover=coverage), \"cans of paint.\")"
   ]
  },
  {
   "cell_type": "code",
   "execution_count": 10,
   "metadata": {},
   "outputs": [
    {
     "name": "stdout",
     "output_type": "stream",
     "text": [
      "It's not a prime number!\n"
     ]
    }
   ],
   "source": [
    "# Check if a number is a prime number\n",
    "\n",
    "def prime_check(number):\n",
    "    is_prime = True\n",
    "    for i in range(2, number):\n",
    "        if number % i == 0:\n",
    "            is_prime = False\n",
    "    if is_prime:\n",
    "        print(\"It's a prime number!\")\n",
    "    else:\n",
    "        print(\"It's not a prime number!\")\n",
    "\n",
    "n = int(input(\"Check this number: \"))\n",
    "prime_check(number=n)"
   ]
  }
 ],
 "metadata": {
  "kernelspec": {
   "display_name": "Python 3.9.7 ('base')",
   "language": "python",
   "name": "python3"
  },
  "language_info": {
   "codemirror_mode": {
    "name": "ipython",
    "version": 3
   },
   "file_extension": ".py",
   "mimetype": "text/x-python",
   "name": "python",
   "nbconvert_exporter": "python",
   "pygments_lexer": "ipython3",
   "version": "3.9.7"
  },
  "orig_nbformat": 4,
  "vscode": {
   "interpreter": {
    "hash": "0326d5c89bbc30a2976d9b776107057a5faa6fcdc0403b17d79e42056d6f4e4e"
   }
  }
 },
 "nbformat": 4,
 "nbformat_minor": 2
}
