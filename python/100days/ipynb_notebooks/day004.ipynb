{
 "cells": [
  {
   "cell_type": "markdown",
   "metadata": {},
   "source": [
    "# Day 4 - Randomisation and Lists"
   ]
  },
  {
   "cell_type": "code",
   "execution_count": 1,
   "metadata": {},
   "outputs": [],
   "source": [
    "import random"
   ]
  },
  {
   "cell_type": "code",
   "execution_count": 9,
   "metadata": {},
   "outputs": [
    {
     "name": "stdout",
     "output_type": "stream",
     "text": [
      "Heads\n"
     ]
    }
   ],
   "source": [
    "# Heads or Tails\n",
    "toss = random.randint(0, 1)\n",
    "\n",
    "if toss == 1:\n",
    "    print(\"Heads\")\n",
    "else:\n",
    "    print(\"Tails\")"
   ]
  },
  {
   "cell_type": "code",
   "execution_count": 42,
   "metadata": {},
   "outputs": [
    {
     "name": "stdout",
     "output_type": "stream",
     "text": [
      "Loki will pay for lunch today.\n"
     ]
    }
   ],
   "source": [
    "# Banker Roulette. Who pays for lunch\n",
    "# Do not use the choice() function\n",
    "\n",
    "names_string = input(\"Give me everybody's names, separated by a comma. \")\n",
    "names = names_string.split(\", \")\n",
    "\n",
    "if len(names_string) == 0:\n",
    "    print(\"You forgot to enter some names.\")\n",
    "else:\n",
    "    pick = names[random.randint(0, len(names)-1)]\n",
    "    print(f\"{pick} will pay for lunch today.\")"
   ]
  },
  {
   "cell_type": "code",
   "execution_count": 60,
   "metadata": {},
   "outputs": [
    {
     "name": "stdout",
     "output_type": "stream",
     "text": [
      "[' ', ' ', ' ']\n",
      "[' ', ' ', ' ']\n",
      "[' ', ' ', ' ']\n",
      "\n",
      "Treasure set!\n",
      "[' ', ' ', ' ']\n",
      "[' ', ' ', ' ']\n",
      "['X', ' ', ' ']\n"
     ]
    }
   ],
   "source": [
    "# Treasure Map\n",
    "row1 = [\" \",\" \",\" \"]\n",
    "row2 = [\" \",\" \",\" \"]\n",
    "row3 = [\" \",\" \",\" \"]\n",
    "map = [row1, row2, row3]\n",
    "print(f\"{row1}\\n{row2}\\n{row3}\\n\")\n",
    "\n",
    "position = input(\"Where do you want to put the treasure? \\\n",
    "    Enter first a column then a row number with no spaces between them\")\n",
    "\n",
    "if len(position) > 2:\n",
    "    print(\"Please enter a valid number or a column and row with NO spaces between them.\")\n",
    "else:\n",
    "    column = int(position[0])-1\n",
    "    row = int(position[1])-1\n",
    "    if (column > 3) | (row > 3):\n",
    "        print(\"Please enter a combination within the map's bounds.\")\n",
    "    else:\n",
    "        map[column][row] = \"X\"\n",
    "        print(\"Treasure set!\")\n",
    "        print(f\"{row1}\\n{row2}\\n{row3}\")\n"
   ]
  }
 ],
 "metadata": {
  "kernelspec": {
   "display_name": "Python 3.9.12 ('base')",
   "language": "python",
   "name": "python3"
  },
  "language_info": {
   "codemirror_mode": {
    "name": "ipython",
    "version": 3
   },
   "file_extension": ".py",
   "mimetype": "text/x-python",
   "name": "python",
   "nbconvert_exporter": "python",
   "pygments_lexer": "ipython3",
   "version": "3.9.12"
  },
  "orig_nbformat": 4,
  "vscode": {
   "interpreter": {
    "hash": "b5cfa023891fceef02537f80a4c6e95b77988fb973cdb16a51cdb785092210be"
   }
  }
 },
 "nbformat": 4,
 "nbformat_minor": 2
}
