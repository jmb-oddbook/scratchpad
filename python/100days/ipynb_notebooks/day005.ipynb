{
 "cells": [
  {
   "cell_type": "markdown",
   "metadata": {},
   "source": [
    "# Day 5 - Loops"
   ]
  },
  {
   "cell_type": "code",
   "execution_count": 7,
   "metadata": {},
   "outputs": [
    {
     "name": "stdout",
     "output_type": "stream",
     "text": [
      "[253, 566, 952, 21, 2, 362, 5]\n",
      "The average of the 7 values is: 308.7142857142857\n"
     ]
    }
   ],
   "source": [
    "# Calculate average height\n",
    "input_vals = input(\"Input a list of values separated by a space: \").split()\n",
    "\n",
    "for n in range(0, len(input_vals)):\n",
    "    input_vals[n] = int(input_vals[n])\n",
    "print(input_vals)\n",
    "\n",
    "print(\"The average of the \" + str(len(input_vals)) + \" values is: \"\\\n",
    "     + str(sum(input_vals)/len(input_vals)))"
   ]
  },
  {
   "cell_type": "code",
   "execution_count": 12,
   "metadata": {},
   "outputs": [
    {
     "name": "stdout",
     "output_type": "stream",
     "text": [
      "[55, 2, 36, 958, 45, 78, 25, 65, 8, 7, 51, 5]\n",
      "The highest score is: 958\n"
     ]
    }
   ],
   "source": [
    "# Highest score\n",
    "student_scores = input(\"Input a list of student scores separated by a space: \").split()\n",
    "for n in range(0, len(student_scores)):\n",
    "    student_scores[n] = int(student_scores[n])\n",
    "print(student_scores)\n",
    "\n",
    "highest = 0\n",
    "for n in range(0, len(student_scores)):\n",
    "    if student_scores[n] > highest:\n",
    "        highest = student_scores[n]\n",
    "\n",
    "print(f\"The highest score is: {highest}\")"
   ]
  },
  {
   "cell_type": "code",
   "execution_count": 3,
   "metadata": {},
   "outputs": [
    {
     "name": "stdout",
     "output_type": "stream",
     "text": [
      "The total sum of even numbers between 1 and 100 is: 2450.\n",
      "The total sum of even numbers between 1 and 100 is: 2450.\n"
     ]
    }
   ],
   "source": [
    "# Adding even numbers\n",
    "top_num = int(input(\"Where would you like to stop? Please specify a number your computer can handle in a timely manner. \"))\n",
    "\n",
    "total = 0\n",
    "for n in range(1, top_num):\n",
    "    if n % 2 == 0:\n",
    "        total += n\n",
    "\n",
    "print(f\"The total sum of even numbers between 1 and {top_num} is: {total}.\")\n",
    "\n",
    "# Alternative solution\n",
    "total = 0\n",
    "for n in range(2, top_num, 2):\n",
    "    total += n\n",
    "\n",
    "print(f\"The total sum of even numbers between 1 and {top_num} is: {total}.\")"
   ]
  },
  {
   "cell_type": "code",
   "execution_count": null,
   "metadata": {},
   "outputs": [],
   "source": [
    "# Password Generator Project\n",
    "import random\n",
    "letters = ['a', 'b', 'c', 'd', 'e', 'f', 'g', 'h', 'i', 'j', 'k', 'l', 'm', 'n', 'o', 'p', 'q', 'r', 's', 't', 'u', 'v', 'w', 'x', 'y', 'z', 'A', 'B', 'C', 'D', 'E', 'F', 'G', 'H', 'I', 'J', 'K', 'L', 'M', 'N', 'O', 'P', 'Q', 'R', 'S', 'T', 'U', 'V', 'W', 'X', 'Y', 'Z']\n",
    "numbers = ['0', '1', '2', '3', '4', '5', '6', '7', '8', '9']\n",
    "symbols = ['!', '#', '$', '%', '&', '(', ')', '*', '+']\n",
    "\n",
    "print(\"Welcome to the PyPassword Generator!\")\n",
    "nr_letters= int(input(\"How many letters would you like in your password?\\n\")) \n",
    "nr_symbols = int(input(f\"How many symbols would you like?\\n\"))\n",
    "nr_numbers = int(input(f\"How many numbers would you like?\\n\"))\n",
    "\n",
    "pwde = \"\"\n"
   ]
  },
  {
   "cell_type": "code",
   "execution_count": null,
   "metadata": {},
   "outputs": [],
   "source": [
    "# Easy Level - Order not randomised:\n",
    "# e.g. 4 letter, 2 symbol, 2 number = JduE&!91\n",
    "\n",
    "for nr_letter in range(nr_letters):\n",
    "  pwde = pwde + random.choice(letters)\n",
    "\n",
    "for nr_symbol in range(nr_symbols):\n",
    "  pwde = pwde + random.choice(symbols)\n",
    "\n",
    "for nr_number in range(nr_numbers):\n",
    "  pwde = pwde + random.choice(numbers)\n",
    "\n",
    "print(pwde)\n",
    "\n"
   ]
  },
  {
   "cell_type": "code",
   "execution_count": null,
   "metadata": {},
   "outputs": [],
   "source": [
    "# Hard(er) Level - Order of characters randomised:\n",
    "# e.g. 4 letter, 2 symbol, 2 number = g^2jk8&P\n",
    "\n",
    "pwdh = []\n",
    "for nr_letter in range(nr_letters):\n",
    "  pwdh.append(random.choice(letters))\n",
    "\n",
    "for nr_symbol in range(nr_symbols):\n",
    "  pwdh.append(random.choice(symbols))\n",
    "\n",
    "for nr_number in range(nr_numbers):\n",
    "  pwdh.append(random.choice(numbers))\n",
    "\n",
    "print(pwdh)\n",
    "random.shuffle(pwdh)\n",
    "print(pwdh)\n",
    "\n",
    "ps = \"\"\n",
    "for c in pwdh:\n",
    "  ps += c\n",
    "\n",
    "print(ps)"
   ]
  }
 ],
 "metadata": {
  "kernelspec": {
   "display_name": "Python 3.9.12 ('base')",
   "language": "python",
   "name": "python3"
  },
  "language_info": {
   "codemirror_mode": {
    "name": "ipython",
    "version": 3
   },
   "file_extension": ".py",
   "mimetype": "text/x-python",
   "name": "python",
   "nbconvert_exporter": "python",
   "pygments_lexer": "ipython3",
   "version": "3.9.12"
  },
  "orig_nbformat": 4,
  "vscode": {
   "interpreter": {
    "hash": "b5cfa023891fceef02537f80a4c6e95b77988fb973cdb16a51cdb785092210be"
   }
  }
 },
 "nbformat": 4,
 "nbformat_minor": 2
}
